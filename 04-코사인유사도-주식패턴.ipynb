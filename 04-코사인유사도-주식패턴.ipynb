{
 "cells": [
  {
   "cell_type": "markdown",
   "id": "03d7f821",
   "metadata": {},
   "source": [
    "## 패키지 설치"
   ]
  },
  {
   "cell_type": "markdown",
   "id": "e2578d70",
   "metadata": {},
   "source": [
    "본 실습에 대한 진행을 위해서는 `numpy`, `pandas`, `matplotlib`외에도\n",
    "\n",
    "**주가 데이터 로드** 및 **주식 캔들차트 시각화**를 위하여\n",
    "\n",
    "`finance-datareader` 와 `mpl_finance` 라이브러리 설치가 필요합니다."
   ]
  },
  {
   "cell_type": "markdown",
   "id": "da8e193b",
   "metadata": {},
   "source": [
    "**패키지 정보**\n",
    "\n",
    "- [FinanceDataReder](https://github.com/FinanceData/FinanceDataReader): 주가 정보 로드\n",
    "- [mpl-finance](https://github.com/matplotlib/mpl-finance): candle 차트 시각화"
   ]
  },
  {
   "cell_type": "code",
   "execution_count": null,
   "id": "2355a009",
   "metadata": {},
   "outputs": [],
   "source": [
    "# finance-datareader 설치\n",
    "!pip install finance-datareader\n",
    "\n",
    "# mpl-finance\n",
    "!pip install mpl-finance"
   ]
  },
  {
   "cell_type": "markdown",
   "id": "de85e765",
   "metadata": {},
   "source": [
    "## 모듈 import "
   ]
  },
  {
   "cell_type": "code",
   "execution_count": 114,
   "id": "649b9bcd",
   "metadata": {},
   "outputs": [],
   "source": [
    "import numpy as np\n",
    "import pandas as pd\n",
    "\n",
    "import FinanceDataReader as fdr\n",
    "from mpl_finance import candlestick_ohlc\n",
    "\n",
    "import matplotlib.pyplot as plt\n",
    "import matplotlib.gridspec as gridspec\n",
    "\n",
    "# 차트의 기본 캔버스 크기 설정\n",
    "plt.rcParams[\"figure.figsize\"] = (10, 8)\n",
    "# 차트의 기본 라인 굵기 설정\n",
    "plt.rcParams['lines.linewidth'] = 1.5\n",
    "# 차트의 기본 라인 컬러 설정\n",
    "plt.rcParams['lines.color'] = 'tomato'"
   ]
  },
  {
   "cell_type": "markdown",
   "id": "e4499e59",
   "metadata": {},
   "source": [
    "`finance-datareader`로부터 **코스피(Kospi)** 정보 불러오기"
   ]
  },
  {
   "cell_type": "code",
   "execution_count": 59,
   "id": "387749cf",
   "metadata": {},
   "outputs": [
    {
     "data": {
      "text/html": [
       "<div>\n",
       "<style scoped>\n",
       "    .dataframe tbody tr th:only-of-type {\n",
       "        vertical-align: middle;\n",
       "    }\n",
       "\n",
       "    .dataframe tbody tr th {\n",
       "        vertical-align: top;\n",
       "    }\n",
       "\n",
       "    .dataframe thead th {\n",
       "        text-align: right;\n",
       "    }\n",
       "</style>\n",
       "<table border=\"1\" class=\"dataframe\">\n",
       "  <thead>\n",
       "    <tr style=\"text-align: right;\">\n",
       "      <th></th>\n",
       "      <th>Close</th>\n",
       "      <th>Open</th>\n",
       "      <th>High</th>\n",
       "      <th>Low</th>\n",
       "      <th>Volume</th>\n",
       "      <th>Change</th>\n",
       "    </tr>\n",
       "    <tr>\n",
       "      <th>Date</th>\n",
       "      <th></th>\n",
       "      <th></th>\n",
       "      <th></th>\n",
       "      <th></th>\n",
       "      <th></th>\n",
       "      <th></th>\n",
       "    </tr>\n",
       "  </thead>\n",
       "  <tbody>\n",
       "    <tr>\n",
       "      <th>1981-05-01</th>\n",
       "      <td>123.60</td>\n",
       "      <td>123.60</td>\n",
       "      <td>123.60</td>\n",
       "      <td>123.60</td>\n",
       "      <td>3330000.0</td>\n",
       "      <td>0.0098</td>\n",
       "    </tr>\n",
       "    <tr>\n",
       "      <th>1981-05-02</th>\n",
       "      <td>123.50</td>\n",
       "      <td>123.50</td>\n",
       "      <td>123.50</td>\n",
       "      <td>123.50</td>\n",
       "      <td>2040000.0</td>\n",
       "      <td>-0.0008</td>\n",
       "    </tr>\n",
       "    <tr>\n",
       "      <th>1981-05-04</th>\n",
       "      <td>120.60</td>\n",
       "      <td>120.60</td>\n",
       "      <td>120.60</td>\n",
       "      <td>120.60</td>\n",
       "      <td>1930000.0</td>\n",
       "      <td>-0.0235</td>\n",
       "    </tr>\n",
       "    <tr>\n",
       "      <th>1981-05-06</th>\n",
       "      <td>120.70</td>\n",
       "      <td>120.70</td>\n",
       "      <td>120.70</td>\n",
       "      <td>120.70</td>\n",
       "      <td>1690000.0</td>\n",
       "      <td>0.0008</td>\n",
       "    </tr>\n",
       "    <tr>\n",
       "      <th>1981-05-07</th>\n",
       "      <td>119.30</td>\n",
       "      <td>119.30</td>\n",
       "      <td>119.30</td>\n",
       "      <td>119.30</td>\n",
       "      <td>1480000.0</td>\n",
       "      <td>-0.0116</td>\n",
       "    </tr>\n",
       "    <tr>\n",
       "      <th>...</th>\n",
       "      <td>...</td>\n",
       "      <td>...</td>\n",
       "      <td>...</td>\n",
       "      <td>...</td>\n",
       "      <td>...</td>\n",
       "      <td>...</td>\n",
       "    </tr>\n",
       "    <tr>\n",
       "      <th>2021-10-25</th>\n",
       "      <td>3020.54</td>\n",
       "      <td>3001.10</td>\n",
       "      <td>3025.27</td>\n",
       "      <td>2983.29</td>\n",
       "      <td>791800000.0</td>\n",
       "      <td>0.0048</td>\n",
       "    </tr>\n",
       "    <tr>\n",
       "      <th>2021-10-26</th>\n",
       "      <td>3049.08</td>\n",
       "      <td>3039.82</td>\n",
       "      <td>3051.65</td>\n",
       "      <td>3030.53</td>\n",
       "      <td>564560000.0</td>\n",
       "      <td>0.0094</td>\n",
       "    </tr>\n",
       "    <tr>\n",
       "      <th>2021-10-27</th>\n",
       "      <td>3025.49</td>\n",
       "      <td>3045.83</td>\n",
       "      <td>3049.02</td>\n",
       "      <td>3019.00</td>\n",
       "      <td>607880000.0</td>\n",
       "      <td>-0.0077</td>\n",
       "    </tr>\n",
       "    <tr>\n",
       "      <th>2021-10-28</th>\n",
       "      <td>3009.55</td>\n",
       "      <td>3023.17</td>\n",
       "      <td>3034.42</td>\n",
       "      <td>3009.55</td>\n",
       "      <td>617260000.0</td>\n",
       "      <td>-0.0053</td>\n",
       "    </tr>\n",
       "    <tr>\n",
       "      <th>2021-10-29</th>\n",
       "      <td>2970.68</td>\n",
       "      <td>3025.67</td>\n",
       "      <td>3030.17</td>\n",
       "      <td>2965.40</td>\n",
       "      <td>535480.0</td>\n",
       "      <td>-0.0129</td>\n",
       "    </tr>\n",
       "  </tbody>\n",
       "</table>\n",
       "<p>10816 rows × 6 columns</p>\n",
       "</div>"
      ],
      "text/plain": [
       "              Close     Open     High      Low       Volume  Change\n",
       "Date                                                               \n",
       "1981-05-01   123.60   123.60   123.60   123.60    3330000.0  0.0098\n",
       "1981-05-02   123.50   123.50   123.50   123.50    2040000.0 -0.0008\n",
       "1981-05-04   120.60   120.60   120.60   120.60    1930000.0 -0.0235\n",
       "1981-05-06   120.70   120.70   120.70   120.70    1690000.0  0.0008\n",
       "1981-05-07   119.30   119.30   119.30   119.30    1480000.0 -0.0116\n",
       "...             ...      ...      ...      ...          ...     ...\n",
       "2021-10-25  3020.54  3001.10  3025.27  2983.29  791800000.0  0.0048\n",
       "2021-10-26  3049.08  3039.82  3051.65  3030.53  564560000.0  0.0094\n",
       "2021-10-27  3025.49  3045.83  3049.02  3019.00  607880000.0 -0.0077\n",
       "2021-10-28  3009.55  3023.17  3034.42  3009.55  617260000.0 -0.0053\n",
       "2021-10-29  2970.68  3025.67  3030.17  2965.40     535480.0 -0.0129\n",
       "\n",
       "[10816 rows x 6 columns]"
      ]
     },
     "execution_count": 59,
     "metadata": {},
     "output_type": "execute_result"
    }
   ],
   "source": [
    "data = fdr.DataReader('KS11')\n",
    "data"
   ]
  },
  {
   "cell_type": "markdown",
   "id": "095b3127",
   "metadata": {},
   "source": [
    "`finance-datareader`로부터 **주가 종목 코드로** 주가정보 불러오기"
   ]
  },
  {
   "cell_type": "code",
   "execution_count": 60,
   "id": "7c1fa0b7",
   "metadata": {},
   "outputs": [
    {
     "data": {
      "text/html": [
       "<div>\n",
       "<style scoped>\n",
       "    .dataframe tbody tr th:only-of-type {\n",
       "        vertical-align: middle;\n",
       "    }\n",
       "\n",
       "    .dataframe tbody tr th {\n",
       "        vertical-align: top;\n",
       "    }\n",
       "\n",
       "    .dataframe thead th {\n",
       "        text-align: right;\n",
       "    }\n",
       "</style>\n",
       "<table border=\"1\" class=\"dataframe\">\n",
       "  <thead>\n",
       "    <tr style=\"text-align: right;\">\n",
       "      <th></th>\n",
       "      <th>Open</th>\n",
       "      <th>High</th>\n",
       "      <th>Low</th>\n",
       "      <th>Close</th>\n",
       "      <th>Volume</th>\n",
       "      <th>Change</th>\n",
       "    </tr>\n",
       "    <tr>\n",
       "      <th>Date</th>\n",
       "      <th></th>\n",
       "      <th></th>\n",
       "      <th></th>\n",
       "      <th></th>\n",
       "      <th></th>\n",
       "      <th></th>\n",
       "    </tr>\n",
       "  </thead>\n",
       "  <tbody>\n",
       "    <tr>\n",
       "      <th>1999-11-11</th>\n",
       "      <td>999</td>\n",
       "      <td>999</td>\n",
       "      <td>999</td>\n",
       "      <td>999</td>\n",
       "      <td>12</td>\n",
       "      <td>NaN</td>\n",
       "    </tr>\n",
       "    <tr>\n",
       "      <th>1999-11-12</th>\n",
       "      <td>1115</td>\n",
       "      <td>1115</td>\n",
       "      <td>1115</td>\n",
       "      <td>1115</td>\n",
       "      <td>140</td>\n",
       "      <td>0.116116</td>\n",
       "    </tr>\n",
       "    <tr>\n",
       "      <th>1999-11-15</th>\n",
       "      <td>1249</td>\n",
       "      <td>1249</td>\n",
       "      <td>1249</td>\n",
       "      <td>1249</td>\n",
       "      <td>405</td>\n",
       "      <td>0.120179</td>\n",
       "    </tr>\n",
       "    <tr>\n",
       "      <th>1999-11-16</th>\n",
       "      <td>1396</td>\n",
       "      <td>1396</td>\n",
       "      <td>1396</td>\n",
       "      <td>1396</td>\n",
       "      <td>214</td>\n",
       "      <td>0.117694</td>\n",
       "    </tr>\n",
       "    <tr>\n",
       "      <th>1999-11-17</th>\n",
       "      <td>1561</td>\n",
       "      <td>1561</td>\n",
       "      <td>1561</td>\n",
       "      <td>1561</td>\n",
       "      <td>191</td>\n",
       "      <td>0.118195</td>\n",
       "    </tr>\n",
       "    <tr>\n",
       "      <th>...</th>\n",
       "      <td>...</td>\n",
       "      <td>...</td>\n",
       "      <td>...</td>\n",
       "      <td>...</td>\n",
       "      <td>...</td>\n",
       "      <td>...</td>\n",
       "    </tr>\n",
       "    <tr>\n",
       "      <th>2021-10-25</th>\n",
       "      <td>126500</td>\n",
       "      <td>127500</td>\n",
       "      <td>123500</td>\n",
       "      <td>126000</td>\n",
       "      <td>2309608</td>\n",
       "      <td>-0.011765</td>\n",
       "    </tr>\n",
       "    <tr>\n",
       "      <th>2021-10-26</th>\n",
       "      <td>126000</td>\n",
       "      <td>128000</td>\n",
       "      <td>126000</td>\n",
       "      <td>127500</td>\n",
       "      <td>1265299</td>\n",
       "      <td>0.011905</td>\n",
       "    </tr>\n",
       "    <tr>\n",
       "      <th>2021-10-27</th>\n",
       "      <td>128000</td>\n",
       "      <td>129000</td>\n",
       "      <td>126500</td>\n",
       "      <td>128500</td>\n",
       "      <td>1449071</td>\n",
       "      <td>0.007843</td>\n",
       "    </tr>\n",
       "    <tr>\n",
       "      <th>2021-10-28</th>\n",
       "      <td>129000</td>\n",
       "      <td>130000</td>\n",
       "      <td>125000</td>\n",
       "      <td>125500</td>\n",
       "      <td>1783396</td>\n",
       "      <td>-0.023346</td>\n",
       "    </tr>\n",
       "    <tr>\n",
       "      <th>2021-10-29</th>\n",
       "      <td>125500</td>\n",
       "      <td>126500</td>\n",
       "      <td>123000</td>\n",
       "      <td>125500</td>\n",
       "      <td>1872380</td>\n",
       "      <td>0.000000</td>\n",
       "    </tr>\n",
       "  </tbody>\n",
       "</table>\n",
       "<p>5422 rows × 6 columns</p>\n",
       "</div>"
      ],
      "text/plain": [
       "              Open    High     Low   Close   Volume    Change\n",
       "Date                                                         \n",
       "1999-11-11     999     999     999     999       12       NaN\n",
       "1999-11-12    1115    1115    1115    1115      140  0.116116\n",
       "1999-11-15    1249    1249    1249    1249      405  0.120179\n",
       "1999-11-16    1396    1396    1396    1396      214  0.117694\n",
       "1999-11-17    1561    1561    1561    1561      191  0.118195\n",
       "...            ...     ...     ...     ...      ...       ...\n",
       "2021-10-25  126500  127500  123500  126000  2309608 -0.011765\n",
       "2021-10-26  126000  128000  126000  127500  1265299  0.011905\n",
       "2021-10-27  128000  129000  126500  128500  1449071  0.007843\n",
       "2021-10-28  129000  130000  125000  125500  1783396 -0.023346\n",
       "2021-10-29  125500  126500  123000  125500  1872380  0.000000\n",
       "\n",
       "[5422 rows x 6 columns]"
      ]
     },
     "execution_count": 60,
     "metadata": {},
     "output_type": "execute_result"
    }
   ],
   "source": [
    "# 카카오(035720) 종목코드 입력\n",
    "data = fdr.DataReader('035720')\n",
    "data"
   ]
  },
  {
   "cell_type": "markdown",
   "id": "4e3a5a50",
   "metadata": {},
   "source": [
    "## 주가 차트와 거래량 정보 시각화"
   ]
  },
  {
   "cell_type": "markdown",
   "id": "c1fce878",
   "metadata": {},
   "source": [
    "시작일(startdate), 종료일(enddate)를 정의합니다."
   ]
  },
  {
   "cell_type": "code",
   "execution_count": 153,
   "id": "21fe36c6",
   "metadata": {},
   "outputs": [],
   "source": [
    "startdate = '2021-09-01'\n",
    "enddate = '2021-09-20'"
   ]
  },
  {
   "cell_type": "markdown",
   "id": "d303254d",
   "metadata": {},
   "source": [
    "`startdate`와 `enddate`사이에 있는 데이터만 추출합니다."
   ]
  },
  {
   "cell_type": "code",
   "execution_count": 154,
   "id": "36d5d2dd",
   "metadata": {},
   "outputs": [
    {
     "data": {
      "text/html": [
       "<div>\n",
       "<style scoped>\n",
       "    .dataframe tbody tr th:only-of-type {\n",
       "        vertical-align: middle;\n",
       "    }\n",
       "\n",
       "    .dataframe tbody tr th {\n",
       "        vertical-align: top;\n",
       "    }\n",
       "\n",
       "    .dataframe thead th {\n",
       "        text-align: right;\n",
       "    }\n",
       "</style>\n",
       "<table border=\"1\" class=\"dataframe\">\n",
       "  <thead>\n",
       "    <tr style=\"text-align: right;\">\n",
       "      <th></th>\n",
       "      <th>Open</th>\n",
       "      <th>High</th>\n",
       "      <th>Low</th>\n",
       "      <th>Close</th>\n",
       "      <th>Volume</th>\n",
       "      <th>Change</th>\n",
       "    </tr>\n",
       "    <tr>\n",
       "      <th>Date</th>\n",
       "      <th></th>\n",
       "      <th></th>\n",
       "      <th></th>\n",
       "      <th></th>\n",
       "      <th></th>\n",
       "      <th></th>\n",
       "    </tr>\n",
       "  </thead>\n",
       "  <tbody>\n",
       "    <tr>\n",
       "      <th>2021-09-01</th>\n",
       "      <td>155000</td>\n",
       "      <td>156000</td>\n",
       "      <td>154000</td>\n",
       "      <td>154000</td>\n",
       "      <td>2011434</td>\n",
       "      <td>-0.006452</td>\n",
       "    </tr>\n",
       "    <tr>\n",
       "      <th>2021-09-02</th>\n",
       "      <td>154500</td>\n",
       "      <td>156000</td>\n",
       "      <td>153500</td>\n",
       "      <td>155000</td>\n",
       "      <td>1649156</td>\n",
       "      <td>0.006494</td>\n",
       "    </tr>\n",
       "    <tr>\n",
       "      <th>2021-09-03</th>\n",
       "      <td>155500</td>\n",
       "      <td>157500</td>\n",
       "      <td>154500</td>\n",
       "      <td>156500</td>\n",
       "      <td>1934669</td>\n",
       "      <td>0.009677</td>\n",
       "    </tr>\n",
       "    <tr>\n",
       "      <th>2021-09-06</th>\n",
       "      <td>156000</td>\n",
       "      <td>156500</td>\n",
       "      <td>152500</td>\n",
       "      <td>155500</td>\n",
       "      <td>1883428</td>\n",
       "      <td>-0.006390</td>\n",
       "    </tr>\n",
       "    <tr>\n",
       "      <th>2021-09-07</th>\n",
       "      <td>155500</td>\n",
       "      <td>156000</td>\n",
       "      <td>153500</td>\n",
       "      <td>154000</td>\n",
       "      <td>1072249</td>\n",
       "      <td>-0.009646</td>\n",
       "    </tr>\n",
       "    <tr>\n",
       "      <th>2021-09-08</th>\n",
       "      <td>151500</td>\n",
       "      <td>151500</td>\n",
       "      <td>136500</td>\n",
       "      <td>138500</td>\n",
       "      <td>16920382</td>\n",
       "      <td>-0.100649</td>\n",
       "    </tr>\n",
       "    <tr>\n",
       "      <th>2021-09-09</th>\n",
       "      <td>134000</td>\n",
       "      <td>134500</td>\n",
       "      <td>128000</td>\n",
       "      <td>128500</td>\n",
       "      <td>14534253</td>\n",
       "      <td>-0.072202</td>\n",
       "    </tr>\n",
       "    <tr>\n",
       "      <th>2021-09-10</th>\n",
       "      <td>127000</td>\n",
       "      <td>133500</td>\n",
       "      <td>126000</td>\n",
       "      <td>130000</td>\n",
       "      <td>9918050</td>\n",
       "      <td>0.011673</td>\n",
       "    </tr>\n",
       "    <tr>\n",
       "      <th>2021-09-13</th>\n",
       "      <td>126500</td>\n",
       "      <td>130000</td>\n",
       "      <td>122500</td>\n",
       "      <td>124500</td>\n",
       "      <td>8675498</td>\n",
       "      <td>-0.042308</td>\n",
       "    </tr>\n",
       "    <tr>\n",
       "      <th>2021-09-14</th>\n",
       "      <td>122500</td>\n",
       "      <td>126000</td>\n",
       "      <td>118000</td>\n",
       "      <td>124000</td>\n",
       "      <td>18895148</td>\n",
       "      <td>-0.004016</td>\n",
       "    </tr>\n",
       "    <tr>\n",
       "      <th>2021-09-15</th>\n",
       "      <td>123500</td>\n",
       "      <td>127500</td>\n",
       "      <td>122000</td>\n",
       "      <td>122500</td>\n",
       "      <td>9078817</td>\n",
       "      <td>-0.012097</td>\n",
       "    </tr>\n",
       "    <tr>\n",
       "      <th>2021-09-16</th>\n",
       "      <td>123000</td>\n",
       "      <td>125000</td>\n",
       "      <td>121000</td>\n",
       "      <td>121500</td>\n",
       "      <td>4770936</td>\n",
       "      <td>-0.008163</td>\n",
       "    </tr>\n",
       "    <tr>\n",
       "      <th>2021-09-17</th>\n",
       "      <td>121500</td>\n",
       "      <td>121500</td>\n",
       "      <td>118000</td>\n",
       "      <td>119500</td>\n",
       "      <td>4807631</td>\n",
       "      <td>-0.016461</td>\n",
       "    </tr>\n",
       "  </tbody>\n",
       "</table>\n",
       "</div>"
      ],
      "text/plain": [
       "              Open    High     Low   Close    Volume    Change\n",
       "Date                                                          \n",
       "2021-09-01  155000  156000  154000  154000   2011434 -0.006452\n",
       "2021-09-02  154500  156000  153500  155000   1649156  0.006494\n",
       "2021-09-03  155500  157500  154500  156500   1934669  0.009677\n",
       "2021-09-06  156000  156500  152500  155500   1883428 -0.006390\n",
       "2021-09-07  155500  156000  153500  154000   1072249 -0.009646\n",
       "2021-09-08  151500  151500  136500  138500  16920382 -0.100649\n",
       "2021-09-09  134000  134500  128000  128500  14534253 -0.072202\n",
       "2021-09-10  127000  133500  126000  130000   9918050  0.011673\n",
       "2021-09-13  126500  130000  122500  124500   8675498 -0.042308\n",
       "2021-09-14  122500  126000  118000  124000  18895148 -0.004016\n",
       "2021-09-15  123500  127500  122000  122500   9078817 -0.012097\n",
       "2021-09-16  123000  125000  121000  121500   4770936 -0.008163\n",
       "2021-09-17  121500  121500  118000  119500   4807631 -0.016461"
      ]
     },
     "execution_count": 154,
     "metadata": {},
     "output_type": "execute_result"
    }
   ],
   "source": [
    "# 주가 정보의 시작: 종료 추출\n",
    "data_ = data.loc[startdate:enddate]\n",
    "data_"
   ]
  },
  {
   "cell_type": "markdown",
   "id": "24bf3f47",
   "metadata": {},
   "source": [
    "**주식 차트 생성**"
   ]
  },
  {
   "cell_type": "code",
   "execution_count": 155,
   "id": "5b8274df",
   "metadata": {},
   "outputs": [
    {
     "data": {
      "image/png": "[encoded data removed]",
      "text/plain": [
       "<Figure size 720x576 with 2 Axes>"
      ]
     },
     "metadata": {},
     "output_type": "display_data"
    }
   ],
   "source": [
    "fig = plt.figure()\n",
    "fig.set_facecolor('w')\n",
    "# 2개의 캔버스 생성 후 1번째는 차트를 2번째는 거래량\n",
    "gs = gridspec.GridSpec(2, 1, height_ratios=[3, 1])\n",
    "\n",
    "axes = []\n",
    "axes.append(plt.subplot(gs[0]))\n",
    "axes.append(plt.subplot(gs[1], sharex=axes[0]))\n",
    "axes[0].get_xaxis().set_visible(False)\n",
    "\n",
    "x = np.arange(len(data_.index))\n",
    "ohlc = data_[['Open', 'High', 'Low', 'Close']].values\n",
    "dohlc = np.hstack((np.reshape(x, (-1, 1)), ohlc))\n",
    "\n",
    "# 봉차트\n",
    "candlestick_ohlc(axes[0], dohlc, width=0.5, colorup='r', colordown='b')\n",
    "\n",
    "# 거래량 차트\n",
    "axes[1].bar(x, data_['Volume'], color='grey', width=0.6, align='center')\n",
    "axes[1].set_xticks(range(len(x)))\n",
    "axes[1].set_xticklabels(list(data_.index.strftime('%Y-%m-%d')), rotation=90)\n",
    "axes[1].get_yaxis().set_visible(False)\n",
    "\n",
    "plt.tight_layout()"
   ]
  },
  {
   "cell_type": "markdown",
   "id": "1a4cb3f4",
   "metadata": {},
   "source": [
    "## 종가 데이터만 추출 후 정규화(Normalization)"
   ]
  },
  {
   "cell_type": "code",
   "execution_count": 178,
   "id": "0eecdb51",
   "metadata": {},
   "outputs": [
    {
     "data": {
      "image/png": "[encoded data removed]",
      "text/plain": [
       "<Figure size 720x576 with 1 Axes>"
      ]
     },
     "metadata": {
      "needs_background": "light"
     },
     "output_type": "display_data"
    }
   ],
   "source": [
    "# 종가(Close)만 추출\n",
    "close = data_['Close']\n",
    "\n",
    "# 추출한 종가(Close) 데이터를 lineplot\n",
    "# .plot(color='tomato')\n",
    "plt.plot(data_['Close'].values, color='m')\n",
    "plt.xticks(np.arange(len(data_['Close'])), data_['Close'].index.strftime('%Y-%m-%d'), rotation=45)\n",
    "plt.show()"
   ]
  },
  {
   "cell_type": "markdown",
   "id": "c2637132",
   "metadata": {},
   "source": [
    "기준(`startdate:enddate`)이 되는 종가 데이터에 대하여 정규화(Normalization)을 진행합니다.\n",
    "\n",
    "정규화를 하여 기간에 대한 같은 가격 데이터의 스케일을 가질 수 있도록 해야하는데, 이렇게 정규화를 해야 패턴 찾을 때 주가의 **오르내림** 패턴을 인지할 수 있습니다.\n",
    "\n",
    "정규화를 적용한 뒤 기준 값이라는 의미의 `base` 변수에 대입합니다."
   ]
  },
  {
   "cell_type": "code",
   "execution_count": 157,
   "id": "f0d34fe3",
   "metadata": {},
   "outputs": [
    {
     "data": {
      "text/plain": [
       "Date\n",
       "2021-09-01    0.932432\n",
       "2021-09-02    0.959459\n",
       "2021-09-03    1.000000\n",
       "2021-09-06    0.972973\n",
       "2021-09-07    0.932432\n",
       "2021-09-08    0.513514\n",
       "2021-09-09    0.243243\n",
       "2021-09-10    0.283784\n",
       "2021-09-13    0.135135\n",
       "2021-09-14    0.121622\n",
       "2021-09-15    0.081081\n",
       "2021-09-16    0.054054\n",
       "2021-09-17    0.000000\n",
       "Name: Close, dtype: float64"
      ]
     },
     "execution_count": 157,
     "metadata": {},
     "output_type": "execute_result"
    }
   ],
   "source": [
    "# 종가(Close)에 대한 정규화\n",
    "base = (close - close.min()) / (close.max() - close.min())\n",
    "base"
   ]
  },
  {
   "cell_type": "markdown",
   "id": "3b8f918b",
   "metadata": {},
   "source": [
    "## 윈도우 범위(window_size) 만큼의 유사 패턴 찾기 (cosine 유사도)"
   ]
  },
  {
   "cell_type": "markdown",
   "id": "682a4d14",
   "metadata": {},
   "source": [
    "먼저, 윈도우 사이즈는 `base` 변수에 담긴 기준 데이터의 개수로 지정합니다."
   ]
  },
  {
   "cell_type": "code",
   "execution_count": 158,
   "id": "fd9d8fe7",
   "metadata": {},
   "outputs": [],
   "source": [
    "# 윈도우 사이즈\n",
    "window_size = len(base)"
   ]
  },
  {
   "cell_type": "markdown",
   "id": "90a87709",
   "metadata": {},
   "source": [
    "예측 기간은 향후 **N일간**의 주간을 예측하도록 합니다.\n",
    "\n",
    "사실 예측이라기 보다는 과거 데이터에서 찾은 **코사인 유사도가 가장 높았던 패턴의 향후 5일 주가 추이**를 그대로 가져와서 보여주는 것입니다."
   ]
  },
  {
   "cell_type": "code",
   "execution_count": 159,
   "id": "77d0a604",
   "metadata": {},
   "outputs": [],
   "source": [
    "# 예측 기간\n",
    "next_date = 5"
   ]
  },
  {
   "cell_type": "markdown",
   "id": "120fa942",
   "metadata": {},
   "source": [
    "반목문 횟수를 계산합니다.\n",
    "\n",
    "**처음부터 윈도우 사이즈만큼 이동하면서 끝까지 탐색**합니다.\n",
    "\n",
    "모든 탐색에 대해서는 **코사인 유사도를 계산하여 index로 저장**합니다."
   ]
  },
  {
   "cell_type": "code",
   "execution_count": 160,
   "id": "78fa15e0",
   "metadata": {},
   "outputs": [],
   "source": [
    "# 검색 횟수\n",
    "moving_cnt = len(data) - window_size - next_date - 1"
   ]
  },
  {
   "cell_type": "markdown",
   "id": "a6ea721c",
   "metadata": {},
   "source": [
    "코사인 유사도를 구하는 공식을 활용하여 **다음과 같이 함수로 구현**합니다.\n",
    "\n",
    "혹은 **scipy**에서 제공하는 `cosine`을 사용하여 구할 수도 있습니다.\n",
    "\n",
    "[scipy.spatial.distance.cosine](https://docs.scipy.org/doc/scipy/reference/generated/scipy.spatial.distance.cosine.html)"
   ]
  },
  {
   "cell_type": "code",
   "execution_count": 162,
   "id": "85808612",
   "metadata": {},
   "outputs": [],
   "source": [
    "def cosine_similarity(x, y):\n",
    "    return np.dot(x, y) / (np.sqrt(np.dot(x, x)) * np.sqrt(np.dot(y, y)))"
   ]
  },
  {
   "cell_type": "markdown",
   "id": "e4c7cb67",
   "metadata": {},
   "source": [
    "다음은 데이터의 처음부터 끝까지 `window_size`만큼 순회하면서 `base`와의 코사인 유사도를 모두 계산하여 `sim_list` 리스트에 추가합니다.\n",
    "\n",
    "나중에 `sim_list`에서 코사인 유사도를 기준으로 내림차순 정렬을 하여 유사도가 높은 인덱스를 확인하겠습니다"
   ]
  },
  {
   "cell_type": "code",
   "execution_count": 163,
   "id": "822b6254",
   "metadata": {},
   "outputs": [],
   "source": [
    "# 코사인 유사도를 계산하여 저장해줄 리스트를 생성합니다\n",
    "sim_list = []\n",
    "\n",
    "for i in range(moving_cnt):\n",
    "    # i 번째 인덱스 부터 i+window_size 만큼의 범위를 가져와 target 변수에 대입합니다\n",
    "    target = data['Close'].iloc[i:i+window_size]\n",
    "    \n",
    "    # base와 마찬가지로 정규화를 적용하여 스케일을 맞춰 줍니다\n",
    "    target = (target - target.min()) / (target.max() - target.min())\n",
    "    \n",
    "    # 코사인 유사도를 계산합니다\n",
    "    cos_similarity = cosine_similarity(base, target)\n",
    "    \n",
    "    # 계산된 코사인 유사도를 추가합니다\n",
    "    sim_list.append(cos_similarity)"
   ]
  },
  {
   "cell_type": "markdown",
   "id": "f3d2d486",
   "metadata": {},
   "source": [
    "## 유사도 계산 결과 확인"
   ]
  },
  {
   "cell_type": "markdown",
   "id": "60423d73",
   "metadata": {},
   "source": [
    "계산된 코사인 유사도는 `sim_list`에 저장되어 있으며, 이를 내림차순 정렬하여 상위 20개를 출력하면 다음과 같습니다"
   ]
  },
  {
   "cell_type": "code",
   "execution_count": 164,
   "id": "6d677d6c",
   "metadata": {},
   "outputs": [
    {
     "data": {
      "text/plain": [
       "5384    1.000000\n",
       "3276    0.994382\n",
       "1801    0.989912\n",
       "1026    0.989041\n",
       "3196    0.986168\n",
       "1989    0.985774\n",
       "4011    0.985743\n",
       "4538    0.985353\n",
       "3210    0.985147\n",
       "4659    0.985074\n",
       "3528    0.984875\n",
       "3211    0.984738\n",
       "592     0.984496\n",
       "995     0.984276\n",
       "2952    0.984207\n",
       "3078    0.984094\n",
       "2065    0.983622\n",
       "996     0.982743\n",
       "3557    0.982710\n",
       "2154    0.982579\n",
       "dtype: float64"
      ]
     },
     "execution_count": 164,
     "metadata": {},
     "output_type": "execute_result"
    }
   ],
   "source": [
    "pd.Series(sim_list).sort_values(ascending=False).head(20)"
   ]
  },
  {
   "cell_type": "markdown",
   "id": "a954ef48",
   "metadata": {},
   "source": [
    "**5384** 인덱스는 자기 자신 인덱스이므로 코사인 유사도가 1이 나왔습니다.\n",
    "\n",
    "그다음으로 유사도가 높게 나온 **3276** 인덱스의 주가와 `base` 주가를 **동시에 시각화하여 향후 주가를 예측**해 봅니다."
   ]
  },
  {
   "cell_type": "code",
   "execution_count": 199,
   "id": "ffa1b943",
   "metadata": {},
   "outputs": [
    {
     "data": {
      "image/png": "[encoded data removed]",
      "text/plain": [
       "<Figure size 720x576 with 1 Axes>"
      ]
     },
     "metadata": {
      "needs_background": "light"
     },
     "output_type": "display_data"
    }
   ],
   "source": [
    "# 높은 유사도를 기록한 인덱스 대입\n",
    "idx=3276\n",
    "\n",
    "# target 변수에 종가 데이터의 [기준 인덱스] 부터 [기준 인덱스 + window_size + 예측(5일)] 데이터를 추출합니다\n",
    "target = data['Close'].iloc[idx:idx+window_size+5]\n",
    "\n",
    "# 정규화를 적용합니다\n",
    "target = (target - target.min()) / (target.max() - target.min())\n",
    "\n",
    "# 결과를 시각화합니다\n",
    "plt.plot(base.values, label='base', color='grey')\n",
    "plt.plot(target.values, label='target', color='orangered')\n",
    "plt.xticks(np.arange(len(target)), list(target.index.strftime('%Y-%m-%d')), rotation=45)\n",
    "plt.axvline(x=len(base)-1, c='grey', linestyle='--')\n",
    "plt.axvspan(len(base.values)-1, len(target.values)-1, facecolor='ivory', alpha=0.7)\n",
    "plt.legend()\n",
    "plt.show()"
   ]
  },
  {
   "cell_type": "markdown",
   "id": "d8421aa7",
   "metadata": {},
   "source": [
    "**결과 정리**\n",
    "\n",
    "1. **2013년 2월 6일**부터 **2013년 2월 23일**까지의 데이터가 **가장 유사도가 높게** 나왔음을 확인할 수 있습니다.\n",
    "2. 코사인 유사도는 **0.994382**를 기록하였습니다.\n",
    "3. 과거 패턴에서는 향후 주가가 횡보 혹은 추가 하락이 있었습니다."
   ]
  }
 ],
 "metadata": {
  "kernelspec": {
   "display_name": "Python 3 (ipykernel)",
   "language": "python",
   "name": "python3"
  },
  "language_info": {
   "codemirror_mode": {
    "name": "ipython",
    "version": 3
   },
   "file_extension": ".py",
   "mimetype": "text/x-python",
   "name": "python",
   "nbconvert_exporter": "python",
   "pygments_lexer": "ipython3",
   "version": "3.7.10"
  }
 },
 "nbformat": 4,
 "nbformat_minor": 5
}
